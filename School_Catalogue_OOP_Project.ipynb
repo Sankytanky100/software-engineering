{
  "nbformat": 4,
  "nbformat_minor": 0,
  "metadata": {
    "colab": {
      "provenance": [],
      "gpuType": "T4",
      "authorship_tag": "ABX9TyNKA2csstvbIKPrK6RbyYeg",
      "include_colab_link": true
    },
    "kernelspec": {
      "name": "python3",
      "display_name": "Python 3"
    },
    "language_info": {
      "name": "python"
    },
    "accelerator": "GPU"
  },
  "cells": [
    {
      "cell_type": "markdown",
      "metadata": {
        "id": "view-in-github",
        "colab_type": "text"
      },
      "source": [
        "<a href=\"https://colab.research.google.com/github/Sankytanky100/software-engineering/blob/main/School_Catalogue_OOP_Project.ipynb\" target=\"_parent\"><img src=\"https://colab.research.google.com/assets/colab-badge.svg\" alt=\"Open In Colab\"/></a>"
      ]
    },
    {
      "cell_type": "markdown",
      "source": [
        "**Introduction**\n",
        "\n",
        "In this project, we will create an advanced School Catalogue system for the New York City Department of Education. The goal is to develop a digital catalog that holds quick reference material for each school in the city. We'll utilize advanced Object-Oriented Programming (OOP) concepts in Python to design and implement this system, demonstrating software engineering best practices suitable for AI coders and software developers.\n",
        "\n"
      ],
      "metadata": {
        "id": "U-2MSgU103u4"
      }
    },
    {
      "cell_type": "markdown",
      "source": [
        "**Project Overview**\n",
        "\n",
        "We will build a class hierarchy that represents different types of schools:\n",
        "\n",
        "School (Base Class)\n",
        "PrimarySchool (Derived Class)\n",
        "MiddleSchool (Derived Class)\n",
        "HighSchool (Derived Class)\n",
        "Each class will have specific properties, getters, setters, and methods that reflect the characteristics of each school type. We'll also incorporate advanced OOP features such as encapsulation, inheritance, polymorphism, and abstraction. Additionally, we'll enhance the project by adding:\n",
        "\n",
        "Data Validation\n",
        "Error Handling\n",
        "Class Methods and Static Methods\n",
        "Property Decorators\n",
        "Method Overriding\n",
        "Multiple Inheritance (for demonstration purposes)\n",
        "Operator Overloading"
      ],
      "metadata": {
        "id": "H5-SU6KJ08qW"
      }
    },
    {
      "cell_type": "markdown",
      "source": [
        "1. Base Class: School"
      ],
      "metadata": {
        "id": "D8wHNTJQ1EBO"
      }
    },
    {
      "cell_type": "code",
      "execution_count": 56,
      "metadata": {
        "id": "HXvjF3xh0wjr"
      },
      "outputs": [],
      "source": [
        "class School:\n",
        "    \"\"\"A class representing a generic school.\"\"\"\n",
        "\n",
        "    # Class variable to keep track of total schools\n",
        "    total_schools = 0\n",
        "\n",
        "    def __init__(self, name, level, number_of_students):\n",
        "        self._name = name  # Protected attribute\n",
        "        self._level = level  # Protected attribute\n",
        "        self._number_of_students = number_of_students  # Initialized in setter\n",
        "\n",
        "        # Validate and set number_of_students\n",
        "        if not isinstance(number_of_students, int) or number_of_students < 0:\n",
        "            raise InvalidStudentNumberError(\"Invalid number of students provided.\")\n",
        "        self.number_of_students = number_of_students\n",
        "\n",
        "        School.total_schools += 1  # Increment total_schools\n",
        "\n",
        "    # Property decorators for name\n",
        "    @property\n",
        "    def name(self):\n",
        "        \"\"\"Gets the name of the school.\"\"\"\n",
        "        return self._name\n",
        "\n",
        "    @name.setter\n",
        "    def name(self, value):\n",
        "        \"\"\"Sets the name of the school.\"\"\"\n",
        "        self._name = value\n",
        "\n",
        "    # Property decorators for level\n",
        "    @property\n",
        "    def level(self):\n",
        "        \"\"\"Gets the level of the school.\"\"\"\n",
        "        return self._level\n",
        "\n",
        "    # No setter for level, as it should not change after initialization\n",
        "\n",
        "    # Property decorators for number_of_students\n",
        "    @property\n",
        "    def number_of_students(self):\n",
        "        \"\"\"Gets the number of students.\"\"\"\n",
        "        return self._number_of_students\n",
        "\n",
        "    @number_of_students.setter\n",
        "    def number_of_students(self, value):\n",
        "        \"\"\"Sets the number of students with validation.\"\"\"\n",
        "        if not isinstance(value, int) or value < 0:\n",
        "            raise ValueError(\"Number of students must be a positive integer.\")\n",
        "        self._number_of_students = value\n",
        "\n",
        "    def __repr__(self):\n",
        "        return f\"A {self.level} school named {self.name} with {self.number_of_students} students.\"\n",
        "\n",
        "    @classmethod\n",
        "    def get_total_schools(cls):\n",
        "        \"\"\"Returns the total number of schools created.\"\"\"\n",
        "        return cls.total_schools\n",
        "\n",
        "    @staticmethod\n",
        "    def school_motto():\n",
        "        \"\"\"Returns a generic school motto.\"\"\"\n",
        "        return \"Education is the key to success.\"\n"
      ]
    },
    {
      "cell_type": "markdown",
      "source": [
        "2. Derived Class: PrimarySchool"
      ],
      "metadata": {
        "id": "0RPbRC6S1IdY"
      }
    },
    {
      "cell_type": "code",
      "source": [
        "class PrimarySchool(School):\n",
        "    \"\"\"A class representing a primary school.\"\"\"\n",
        "\n",
        "    def __init__(self, name, number_of_students, pickup_policy):\n",
        "        super().__init__(name, 'primary', number_of_students)\n",
        "        self._pickup_policy = pickup_policy  # Protected attribute\n",
        "\n",
        "    @property\n",
        "    def pickup_policy(self):\n",
        "        \"\"\"Gets the pickup policy.\"\"\"\n",
        "        return self._pickup_policy\n",
        "\n",
        "    @pickup_policy.setter\n",
        "    def pickup_policy(self, value):\n",
        "        \"\"\"Sets the pickup policy.\"\"\"\n",
        "        self._pickup_policy = value\n",
        "\n",
        "    def __repr__(self):\n",
        "        parent_repr = super().__repr__()\n",
        "        return f\"{parent_repr} The pickup policy is '{self.pickup_policy}'.\"\n"
      ],
      "metadata": {
        "id": "fmLZnnB11KEZ"
      },
      "execution_count": 57,
      "outputs": []
    },
    {
      "cell_type": "markdown",
      "source": [
        "3. Derived Class: MiddleSchool"
      ],
      "metadata": {
        "id": "cYFv0H5H1MEk"
      }
    },
    {
      "cell_type": "code",
      "source": [
        "class MiddleSchool(School):\n",
        "    \"\"\"A class representing a middle school.\"\"\"\n",
        "\n",
        "    def __init__(self, name, number_of_students, clubs=None):\n",
        "        super().__init__(name, 'middle', number_of_students)\n",
        "        self._clubs = clubs if clubs else []  # List of clubs\n",
        "\n",
        "    @property\n",
        "    def clubs(self):\n",
        "        \"\"\"Gets the list of clubs.\"\"\"\n",
        "        return self._clubs\n",
        "\n",
        "    @clubs.setter\n",
        "    def clubs(self, value):\n",
        "        \"\"\"Sets the list of clubs.\"\"\"\n",
        "        if not isinstance(value, list):\n",
        "            raise ValueError(\"Clubs must be a list.\")\n",
        "        self._clubs = value\n",
        "\n",
        "    def add_club(self, club_name):\n",
        "        \"\"\"Adds a club to the list.\"\"\"\n",
        "        self._clubs.append(club_name)\n",
        "\n",
        "    def __repr__(self):\n",
        "        parent_repr = super().__repr__()\n",
        "        clubs_str = ', '.join(self.clubs) if self.clubs else 'No clubs available.'\n",
        "        return f\"{parent_repr} Clubs offered: {clubs_str}\"\n"
      ],
      "metadata": {
        "id": "V9jSVAhI1Msp"
      },
      "execution_count": 58,
      "outputs": []
    },
    {
      "cell_type": "markdown",
      "source": [
        "4. Derived Class: HighSchool"
      ],
      "metadata": {
        "id": "Q8a4mndV1PHh"
      }
    },
    {
      "cell_type": "code",
      "source": [
        "class HighSchool(School):\n",
        "    \"\"\"A class representing a high school.\"\"\"\n",
        "\n",
        "    def __init__(self, name, number_of_students, sports_teams=None):\n",
        "        super().__init__(name, 'high', number_of_students)\n",
        "        self._sports_teams = sports_teams if sports_teams else []\n",
        "\n",
        "    @property\n",
        "    def sports_teams(self):\n",
        "        \"\"\"Gets the list of sports teams.\"\"\"\n",
        "        return self._sports_teams\n",
        "\n",
        "    @sports_teams.setter\n",
        "    def sports_teams(self, value):\n",
        "        \"\"\"Sets the list of sports teams.\"\"\"\n",
        "        if not isinstance(value, list):\n",
        "            raise ValueError(\"Sports teams must be a list.\")\n",
        "        self._sports_teams = value\n",
        "\n",
        "    def add_sports_team(self, team_name):\n",
        "        \"\"\"Adds a sports team to the list.\"\"\"\n",
        "        self._sports_teams.append(team_name)\n",
        "\n",
        "    def __repr__(self):\n",
        "        parent_repr = super().__repr__()\n",
        "        teams_str = ', '.join(self.sports_teams) if self.sports_teams else 'No sports teams available.'\n",
        "        return f\"{parent_repr} Sports teams: {teams_str}\"\n"
      ],
      "metadata": {
        "id": "D-LptnYJ1PzO"
      },
      "execution_count": 59,
      "outputs": []
    },
    {
      "cell_type": "markdown",
      "source": [
        "5. Multiple Inheritance (Advanced Feature)"
      ],
      "metadata": {
        "id": "7Q0IU0E31SUX"
      }
    },
    {
      "cell_type": "code",
      "source": [
        "class CharterSchool:\n",
        "    \"\"\"A mixin class representing a charter school.\"\"\"\n",
        "\n",
        "    def __init__(self, charter_authority):\n",
        "        self._charter_authority = charter_authority\n",
        "\n",
        "    @property\n",
        "    def charter_authority(self):\n",
        "        \"\"\"Gets the charter authority.\"\"\"\n",
        "        return self._charter_authority\n",
        "\n",
        "    def __repr__(self):\n",
        "        return f\"Charter authorized by {self.charter_authority}.\"\n"
      ],
      "metadata": {
        "id": "0wn86cko1TMJ"
      },
      "execution_count": 60,
      "outputs": []
    },
    {
      "cell_type": "code",
      "source": [
        "class CharterHighSchool(HighSchool, CharterSchool):\n",
        "    \"\"\"A class representing a charter high school.\"\"\"\n",
        "\n",
        "    def __init__(self, name, number_of_students, sports_teams, charter_authority):\n",
        "        HighSchool.__init__(self, name, number_of_students, sports_teams)\n",
        "        CharterSchool.__init__(self, charter_authority)\n",
        "\n",
        "    def __repr__(self):\n",
        "        parent_repr = HighSchool.__repr__(self)\n",
        "        charter_repr = CharterSchool.__repr__(self)\n",
        "        return f\"{parent_repr} {charter_repr}\"\n"
      ],
      "metadata": {
        "id": "1SPPM2FR1U9N"
      },
      "execution_count": 61,
      "outputs": []
    },
    {
      "cell_type": "markdown",
      "source": [
        " Operator Overloading"
      ],
      "metadata": {
        "id": "NIqGKqxn1UPW"
      }
    },
    {
      "cell_type": "code",
      "source": [
        "class School:\n",
        "    # Previous code ...\n",
        "\n",
        "    def __add__(self, other):\n",
        "        if isinstance(other, School):\n",
        "            total_students = self.number_of_students + other.number_of_students\n",
        "            return f\"Combined student population: {total_students}\"\n",
        "        else:\n",
        "            raise TypeError(\"Can only add another School instance.\")\n",
        "\n",
        "    # Rest of the code ...\n"
      ],
      "metadata": {
        "id": "KRNxfwhd1ZEF"
      },
      "execution_count": 62,
      "outputs": []
    },
    {
      "cell_type": "markdown",
      "source": [
        "7. Custom Exceptions"
      ],
      "metadata": {
        "id": "lLPtht811YmA"
      }
    },
    {
      "cell_type": "code",
      "source": [
        "class SchoolError(Exception):\n",
        "    \"\"\"Base class for other exceptions\"\"\"\n",
        "    pass\n",
        "\n",
        "class InvalidStudentNumberError(SchoolError):\n",
        "    \"\"\"Raised when the number of students is invalid\"\"\"\n",
        "    pass\n"
      ],
      "metadata": {
        "id": "LwT1efPS1bn8"
      },
      "execution_count": 63,
      "outputs": []
    },
    {
      "cell_type": "markdown",
      "source": [
        "8. User Interface (CLI)"
      ],
      "metadata": {
        "id": "PqIWy_m61eYe"
      }
    },
    {
      "cell_type": "code",
      "source": [
        "def main():\n",
        "    print(\"Welcome to the NYC School Catalogue!\")\n",
        "    schools = []\n",
        "\n",
        "    while True:\n",
        "        print(\"\\nOptions:\")\n",
        "        print(\"1. Add a Primary School\")\n",
        "        print(\"2. Add a Middle School\")\n",
        "        print(\"3. Add a High School\")\n",
        "        print(\"4. Add a Charter High School\")\n",
        "        print(\"5. View All Schools\")\n",
        "        print(\"6. Exit\")\n",
        "\n",
        "        choice = input(\"Enter your choice (1-6): \")\n",
        "\n",
        "        if choice == '1':\n",
        "            name = input(\"Enter the school's name: \")\n",
        "            num_students = int(input(\"Enter the number of students: \"))\n",
        "            pickup_policy = input(\"Enter the pickup policy: \")\n",
        "            school = PrimarySchool(name, num_students, pickup_policy)\n",
        "            schools.append(school)\n",
        "            print(\"Primary School added successfully.\")\n",
        "\n",
        "        elif choice == '2':\n",
        "            name = input(\"Enter the school's name: \")\n",
        "            num_students = int(input(\"Enter the number of students: \"))\n",
        "            clubs = input(\"Enter clubs separated by commas: \").split(',')\n",
        "            school = MiddleSchool(name, num_students, clubs)\n",
        "            schools.append(school)\n",
        "            print(\"Middle School added successfully.\")\n",
        "\n",
        "        elif choice == '3':\n",
        "            name = input(\"Enter the school's name: \")\n",
        "            num_students = int(input(\"Enter the number of students: \"))\n",
        "            sports_teams = input(\"Enter sports teams separated by commas: \").split(',')\n",
        "            school = HighSchool(name, num_students, sports_teams)\n",
        "            schools.append(school)\n",
        "            print(\"High School added successfully.\")\n",
        "\n",
        "        elif choice == '4':\n",
        "            name = input(\"Enter the school's name: \")\n",
        "            num_students = int(input(\"Enter the number of students: \"))\n",
        "            sports_teams = input(\"Enter sports teams separated by commas: \").split(',')\n",
        "            charter_authority = input(\"Enter the charter authority: \")\n",
        "            school = CharterHighSchool(name, num_students, sports_teams, charter_authority)\n",
        "            schools.append(school)\n",
        "            print(\"Charter High School added successfully.\")\n",
        "\n",
        "        elif choice == '5':\n",
        "            if not schools:\n",
        "                print(\"No schools in the catalog.\")\n",
        "            else:\n",
        "                for idx, school in enumerate(schools, 1):\n",
        "                    print(f\"\\nSchool {idx}:\")\n",
        "                    print(school)\n",
        "\n",
        "        elif choice == '6':\n",
        "            print(\"Exiting the School Catalogue. Goodbye!\")\n",
        "            break\n",
        "\n",
        "        else:\n",
        "            print(\"Invalid choice. Please enter a number between 1 and 6.\")\n",
        "\n",
        "if __name__ == \"__main__\":\n",
        "    main()\n"
      ],
      "metadata": {
        "colab": {
          "base_uri": "https://localhost:8080/"
        },
        "id": "HP7gv_jq1fat",
        "outputId": "c63f9fa0-bd95-46da-b0bc-e58d4481973f"
      },
      "execution_count": null,
      "outputs": [
        {
          "output_type": "stream",
          "name": "stdout",
          "text": [
            "Welcome to the NYC School Catalogue!\n",
            "\n",
            "Options:\n",
            "1. Add a Primary School\n",
            "2. Add a Middle School\n",
            "3. Add a High School\n",
            "4. Add a Charter High School\n",
            "5. View All Schools\n",
            "6. Exit\n"
          ]
        }
      ]
    },
    {
      "cell_type": "markdown",
      "source": [
        "Testing the Classes"
      ],
      "metadata": {
        "id": "s8RJWpTj1hux"
      }
    },
    {
      "cell_type": "code",
      "source": [
        "# Create a Primary School\n",
        "ps = PrimarySchool(\"Greenwood Elementary\", 300, \"Pickup after 3 PM\")\n",
        "print(ps)\n",
        "print(ps.school_motto())\n",
        "\n",
        "# Create a Middle School\n",
        "ms = MiddleSchool(\"Lincoln Middle\", 500, [\"Chess Club\", \"Science Club\"])\n",
        "print(ms)\n",
        "ms.add_club(\"Math Club\")\n",
        "print(ms)\n",
        "\n",
        "# Create a High School\n",
        "hs = HighSchool(\"Roosevelt High\", 800, [\"Basketball\", \"Soccer\"])\n",
        "print(hs)\n",
        "hs.add_sports_team(\"Swimming\")\n",
        "print(hs)\n",
        "\n",
        "# Create a Charter High School\n",
        "chs = CharterHighSchool(\"Harlem Charter High\", 600, [\"Track\", \"Volleyball\"], \"NYC Charter Authority\")\n",
        "print(chs)\n",
        "\n",
        "# Use operator overloading\n",
        "print(hs + ps)\n",
        "\n",
        "# Access total schools\n",
        "print(f\"Total schools created: {School.get_total_schools()}\")\n"
      ],
      "metadata": {
        "id": "eFu0hvml1iNT"
      },
      "execution_count": null,
      "outputs": []
    }
  ]
}